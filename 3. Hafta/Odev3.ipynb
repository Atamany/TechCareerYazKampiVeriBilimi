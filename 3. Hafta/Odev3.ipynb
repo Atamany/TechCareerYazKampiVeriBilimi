{
 "cells": [
  {
   "cell_type": "code",
   "execution_count": 9,
   "id": "e231a709-864d-4d2e-a580-43351a03bf07",
   "metadata": {},
   "outputs": [
    {
     "name": "stdout",
     "output_type": "stream",
     "text": [
      "Orijinal notlar listesi: [85, 92, 76, 92, 100, 76, 85, 92]\n",
      "Sıralaması korunmuş benzersiz notlar: [85, 92, 76, 100]\n",
      "En yüksek not: 100\n",
      "En düşük not: 76\n",
      "Sıralı notlar: [76, 76, 85, 85, 92, 92, 92, 100]\n"
     ]
    }
   ],
   "source": [
    "notlar = [85, 92, 76, 92, 100, 76, 85, 92]\n",
    "print(\"Orijinal notlar listesi:\", notlar)\n",
    "benzersiz_sirali = []\n",
    "for not_degeri in notlar:\n",
    "    if not_degeri not in benzersiz_sirali:\n",
    "        benzersiz_sirali.append(not_degeri)\n",
    "print(\"Sıralaması korunmuş benzersiz notlar:\", benzersiz_sirali)\n",
    "en_yuksek = max(notlar)\n",
    "en_dusuk = min(notlar)\n",
    "print(f\"En yüksek not: {en_yuksek}\")\n",
    "print(f\"En düşük not: {en_dusuk}\")\n",
    "sirali_notlar = sorted(notlar)\n",
    "print(\"Sıralı notlar:\", sirali_notlar)"
   ]
  },
  {
   "cell_type": "code",
   "execution_count": 6,
   "id": "c0d3637b-5682-4af6-8122-bc7b83d04588",
   "metadata": {},
   "outputs": [
    {
     "name": "stdin",
     "output_type": "stream",
     "text": [
      "Bir sayı girin:  153\n"
     ]
    },
    {
     "name": "stdout",
     "output_type": "stream",
     "text": [
      "153 bir Armstrong sayısıdır!\n"
     ]
    }
   ],
   "source": [
    "def armstrong_kontrolu(sayi):\n",
    "    sayi_str = str(sayi)\n",
    "    basamak_sayisi = len(sayi_str)\n",
    "    toplam = 0\n",
    "    for basamak in sayi_str:\n",
    "        toplam += int(basamak) ** basamak_sayisi\n",
    "    return toplam == sayi\n",
    "\n",
    "kullanici_sayi = int(input(\"Bir sayı girin: \"))\n",
    "if armstrong_kontrolu(kullanici_sayi):\n",
    "    print(f\"{kullanici_sayi} bir Armstrong sayısıdır!\")\n",
    "else:\n",
    "    print(f\"{kullanici_sayi} bir Armstrong sayısı değildir.\")"
   ]
  },
  {
   "cell_type": "code",
   "execution_count": 12,
   "id": "723f9829-7b74-4500-a22f-b45342d74b5f",
   "metadata": {},
   "outputs": [
    {
     "name": "stdout",
     "output_type": "stream",
     "text": [
      "Küme A: {'R', 'Python', 'Java', 'SQL'}\n",
      "Küme B: {'C++', 'SQL', 'JavaScript', 'Python'}\n",
      "Ortak diller: {'SQL', 'Python'}\n",
      "Sadece A'da olan diller: {'R', 'Java'}\n",
      "Birleşim (alfabetik): ['C++', 'Java', 'JavaScript', 'Python', 'R', 'SQL']\n"
     ]
    }
   ],
   "source": [
    "A = {\"Python\", \"R\", \"SQL\", \"Java\"}\n",
    "B = {\"C++\", \"Python\", \"JavaScript\", \"SQL\"}\n",
    "print(\"Küme A:\", A)\n",
    "print(\"Küme B:\", B)\n",
    "ortak_diller = A & B\n",
    "print(\"Ortak diller:\", ortak_diller)\n",
    "sadece_A = A - B\n",
    "print(\"Sadece A'da olan diller:\", sadece_A)\n",
    "birlesim_alfabetik = sorted(A | B)\n",
    "print(\"Birleşim (alfabetik):\", birlesim_alfabetik)"
   ]
  },
  {
   "cell_type": "code",
   "execution_count": 1,
   "id": "444f0527-1eee-4d5a-af77-2c89a65393fa",
   "metadata": {},
   "outputs": [
    {
     "name": "stdout",
     "output_type": "stream",
     "text": [
      "Rastgele sayılar: [6, 93, 66, 16, 44, 17, 24, 90, 17, 92]\n",
      "Ortalama: 46.5\n",
      "Standart sapma: 35.47847547770651\n"
     ]
    }
   ],
   "source": [
    "import random\n",
    "import statistics\n",
    "rastgele_sayilar = [random.randint(1, 100) for _ in range(10)]\n",
    "print(\"Rastgele sayılar:\", rastgele_sayilar)\n",
    "ortalama = statistics.mean(rastgele_sayilar)\n",
    "standart_sapma = statistics.stdev(rastgele_sayilar)\n",
    "print(\"Ortalama:\", ortalama)\n",
    "print(\"Standart sapma:\", standart_sapma)"
   ]
  },
  {
   "cell_type": "code",
   "execution_count": 13,
   "id": "d8b7569a-610c-4522-87f9-6c75f2df4a59",
   "metadata": {},
   "outputs": [
    {
     "name": "stdout",
     "output_type": "stream",
     "text": [
      "Test metni: Python veri bilimi için harika bir dil Python kolay ve güçlü Python\n",
      "Toplam kelime sayısı: 12\n",
      "En uzun kelime: Python\n",
      "En sık geçen kelime: Python\n"
     ]
    }
   ],
   "source": [
    "from collections import Counter\n",
    "\n",
    "def kelime_sayaci(metin):\n",
    "    kelimeler = metin.split()    \n",
    "    toplam_kelime = len(kelimeler)\n",
    "    en_uzun = max(kelimeler, key=len)\n",
    "    en_sik = Counter(kelimeler).most_common(1)[0][0]    \n",
    "    return toplam_kelime, en_uzun, en_sik\n",
    "test_metin = \"Python veri bilimi için harika bir dil Python kolay ve güçlü Python\"\n",
    "toplam, uzun, sik = kelime_sayaci(test_metin)\n",
    "print(\"Test metni:\", test_metin)\n",
    "print(\"Toplam kelime sayısı:\", toplam)\n",
    "print(\"En uzun kelime:\", uzun)\n",
    "print(\"En sık geçen kelime:\", sik)"
   ]
  },
  {
   "cell_type": "code",
   "execution_count": 2,
   "id": "dec6e4d5-de8c-499c-a57e-efb33f2a744a",
   "metadata": {},
   "outputs": [
    {
     "name": "stdout",
     "output_type": "stream",
     "text": [
      "Orijinal sayılar: [5, 12, 7, 18, 24, 3, 16]\n",
      "Çift sayılar: [12, 18, 24, 16]\n",
      "Kareleri: [144, 324, 576, 256]\n",
      "Azalan sırada kareler: [576, 324, 256, 144]\n"
     ]
    }
   ],
   "source": [
    "sayilar = [5, 12, 7, 18, 24, 3, 16]\n",
    "print(\"Orijinal sayılar:\", sayilar)\n",
    "cift_sayilar = list(filter(lambda x: x % 2 == 0, sayilar))\n",
    "print(\"Çift sayılar:\", cift_sayilar)\n",
    "kareler = list(map(lambda x: x**2, cift_sayilar))\n",
    "print(\"Kareleri:\", kareler)\n",
    "azalan_kareler = sorted(kareler, reverse=True)\n",
    "print(\"Azalan sırada kareler:\", azalan_kareler)"
   ]
  },
  {
   "cell_type": "code",
   "execution_count": 3,
   "id": "87de4483-2d38-437d-b147-4d564b30bd88",
   "metadata": {},
   "outputs": [
    {
     "name": "stdout",
     "output_type": "stream",
     "text": [
      "Orijinal kelimeler: ['veri', 'bilim', 'analiz', 'yapayzeka', 'python']\n",
      "Uzunluğa göre sıralı: ['veri', 'bilim', 'analiz', 'python', 'yapayzeka']\n"
     ]
    }
   ],
   "source": [
    "kelimeler = [\"veri\", \"bilim\", \"analiz\", \"yapayzeka\", \"python\"]\n",
    "print(\"Orijinal kelimeler:\", kelimeler)\n",
    "uzunluga_gore_sirali = sorted(kelimeler, key=lambda x: len(x))\n",
    "print(\"Uzunluğa göre sıralı:\", uzunluga_gore_sirali)"
   ]
  },
  {
   "cell_type": "code",
   "execution_count": 11,
   "id": "0580b671-2f5d-4346-a2fa-1ac5886c0e06",
   "metadata": {},
   "outputs": [
    {
     "name": "stdout",
     "output_type": "stream",
     "text": [
      "Test string: abc12def3\n",
      "Bulunan sayılar: ['12', '3']\n",
      "Sayıların toplamı: 12 + 3 = 15\n"
     ]
    }
   ],
   "source": [
    "def rakam_toplami(metin):\n",
    "    import re\n",
    "    sayilar = re.findall(r'\\d+', metin)\n",
    "    return sum(int(sayi) for sayi in sayilar), sayilar\n",
    "test_string = \"abc12def3\"\n",
    "toplam, bulunan_sayilar = rakam_toplami(test_string)\n",
    "print(\"Test string:\", test_string)\n",
    "print(\"Bulunan sayılar:\", bulunan_sayilar)\n",
    "print(\"Sayıların toplamı:\", \" + \".join(bulunan_sayilar), \"=\", toplam)"
   ]
  },
  {
   "cell_type": "code",
   "execution_count": null,
   "id": "a85c08de-0622-48e4-96c4-97bd568a7142",
   "metadata": {},
   "outputs": [],
   "source": [
    "import numpy as np\n",
    "dizi = np.random.randint(0, 51, 10)\n",
    "print(\"Numpy dizisi:\", dizi)\n",
    "ortalama = np.mean(dizi)\n",
    "standart_sapma = np.std(dizi)\n",
    "en_buyuk = np.max(dizi)\n",
    "print(\"Ortalama:\", ortalama)\n",
    "print(\"Standart sapma:\", standart_sapma)\n",
    "print(\"En büyük değer:\", en_buyuk)"
   ]
  },
  {
   "cell_type": "code",
   "execution_count": 12,
   "id": "442df113-6196-4d4b-8026-0c716f6c6a0f",
   "metadata": {},
   "outputs": [
    {
     "name": "stdout",
     "output_type": "stream",
     "text": [
      "5x5 Rastgele matris:\n",
      "[[0.4543664  0.78150996 0.77460755 0.46401939 0.90317248]\n",
      " [0.20200151 0.14045397 0.63952733 0.45682678 0.87393732]\n",
      " [0.2326182  0.81923116 0.04505768 0.48987758 0.23481349]\n",
      " [0.33782609 0.1753433  0.01054773 0.10706605 0.96823474]\n",
      " [0.56330124 0.32612228 0.01948755 0.40578199 0.74796632]]\n",
      "Her sütunun ortalaması: [0.35802269 0.44853213 0.29784557 0.38471436 0.74562487]\n",
      "Binary matris:\n",
      "[[0 1 1 0 1]\n",
      " [0 0 1 0 1]\n",
      " [0 1 0 0 0]\n",
      " [0 0 0 0 1]\n",
      " [1 0 0 0 1]]\n"
     ]
    }
   ],
   "source": [
    "import numpy as np\n",
    "matris = np.random.rand(5, 5)\n",
    "print(\"5x5 Rastgele matris:\")\n",
    "print(matris)\n",
    "sutun_ortalamalari = np.mean(matris, axis=0)\n",
    "print(\"Her sütunun ortalaması:\", sutun_ortalamalari)\n",
    "binary_matris = (matris > 0.5).astype(int)\n",
    "print(\"Binary matris:\")\n",
    "print(binary_matris)"
   ]
  }
 ],
 "metadata": {
  "kernelspec": {
   "display_name": "Python 3 (ipykernel)",
   "language": "python",
   "name": "python3"
  },
  "language_info": {
   "codemirror_mode": {
    "name": "ipython",
    "version": 3
   },
   "file_extension": ".py",
   "mimetype": "text/x-python",
   "name": "python",
   "nbconvert_exporter": "python",
   "pygments_lexer": "ipython3",
   "version": "3.13.5"
  }
 },
 "nbformat": 4,
 "nbformat_minor": 5
}
