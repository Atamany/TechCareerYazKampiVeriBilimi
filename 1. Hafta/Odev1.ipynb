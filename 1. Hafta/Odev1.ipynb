{
 "cells": [
  {
   "cell_type": "code",
   "execution_count": null,
   "id": "6a54b304-60b2-4f43-b814-bfe5a04bd013",
   "metadata": {},
   "outputs": [],
   "source": [
    "ad = input(\"Adınızı giriniz: \")\n",
    "yas = int(input(\"Yaşınızı giriniz: \"))\n",
    "boy = float(input(\"Boyunuzu giriniz (metre cinsinden): \"))\n",
    "\n",
    "print(\"Merhaba,\", ad, \"Yaşınız:\", yas, \"Boyunuz:\", boy, \"metre\")\n"
   ]
  },
  {
   "cell_type": "code",
   "execution_count": null,
   "id": "bffd081a-349d-4cb8-83cf-26c4d02f3aca",
   "metadata": {},
   "outputs": [],
   "source": [
    "mat = int(input(\"Matematik notunuzu giriniz: \"))\n",
    "fizik = int(input(\"Fizik notunuzu giriniz: \"))\n",
    "kimya = int(input(\"Kimya notunuzu giriniz: \"))\n",
    "\n",
    "ortalama = (mat + fizik + kimya) / 3\n",
    "print(\"Ortalamanız:\", float(ortalama))\n"
   ]
  },
  {
   "cell_type": "code",
   "execution_count": null,
   "id": "bb6ef171-e009-423c-8d08-dbb20c6a17ee",
   "metadata": {},
   "outputs": [],
   "source": [
    "metin = \"Python\"\n",
    "print(\"İlk karakter:\", metin[0])\n",
    "print(\"Son karakter:\", metin[-1])\n",
    "print(\"Uzunluk:\", len(metin))\n",
    "print(\"Ters hali:\", metin[::-1])\n"
   ]
  },
  {
   "cell_type": "code",
   "execution_count": null,
   "id": "4a5d996a-fa82-433b-86cf-14750f9bfb77",
   "metadata": {},
   "outputs": [],
   "source": [
    "sayi1 = int(input(\"Birinci sayıyı giriniz: \"))\n",
    "sayi2 = int(input(\"İkinci sayıyı giriniz: \"))\n",
    "\n",
    "print(\"Toplama:\", sayi1 + sayi2)\n",
    "print(\"Çıkarma:\", sayi1 - sayi2)\n",
    "print(\"Çarpma:\", sayi1 * sayi2)\n",
    "print(\"Bölme:\", sayi1 / sayi2)\n",
    "print(\"Mod:\", sayi1 % sayi2)\n"
   ]
  },
  {
   "cell_type": "code",
   "execution_count": null,
   "id": "1e58f009-4252-41a5-bd15-aa108982756b",
   "metadata": {},
   "outputs": [],
   "source": [
    "ortalama = float(input(\"Ortalamanızı giriniz: \"))\n",
    "\n",
    "if ortalama > 50:\n",
    "    print(\"Geçti\")\n",
    "else:\n",
    "    print(\"Kaldı\")\n"
   ]
  },
  {
   "cell_type": "code",
   "execution_count": null,
   "id": "dfd911ee-9fca-498e-b292-ff30db669586",
   "metadata": {},
   "outputs": [],
   "source": [
    "yas = int(input(\"Yaşınızı giriniz: \"))\n",
    "\n",
    "if yas >= 18:\n",
    "    print(\"Ehliyet alabilirsiniz\")\n",
    "else:\n",
    "    print(\"Ehliyet alamazsınız\")\n"
   ]
  },
  {
   "cell_type": "code",
   "execution_count": null,
   "id": "95c7e2fe-97fa-4aef-9ff9-a6f8903c705e",
   "metadata": {},
   "outputs": [],
   "source": [
    "fiyat = float(input(\"Ürün fiyatını giriniz: \"))\n",
    "indirim = float(input(\"İndirim oranını giriniz (%): \"))\n",
    "\n",
    "indirimli_fiyat = fiyat - (fiyat * indirim / 100)\n",
    "print(\"İndirimli fiyat:\", indirimli_fiyat)\n"
   ]
  },
  {
   "cell_type": "code",
   "execution_count": null,
   "id": "48e04f3b-cda3-4209-ab52-76cd7d198586",
   "metadata": {},
   "outputs": [],
   "source": [
    "a = True\n",
    "b = False\n",
    "\n",
    "print(\"a and b:\", a and b)\n",
    "print(\"a or b:\", a or b)\n",
    "print(\"not a:\", not a)\n"
   ]
  },
  {
   "cell_type": "code",
   "execution_count": null,
   "id": "17558f45-6d52-4b04-961b-579b059c32ce",
   "metadata": {},
   "outputs": [],
   "source": [
    "urun1 = float(input(\"1. ürün fiyatı: \"))\n",
    "urun2 = float(input(\"2. ürün fiyatı: \"))\n",
    "urun3 = float(input(\"3. ürün fiyatı: \"))\n",
    "\n",
    "toplam = urun1 + urun2 + urun3\n",
    "\n",
    "if toplam > 200:\n",
    "    toplam = toplam - (toplam * 0.10)\n",
    "\n",
    "print(\"Son fiyat:\", toplam)\n"
   ]
  },
  {
   "cell_type": "code",
   "execution_count": null,
   "id": "2e5bdbda-1013-48a9-bfd0-e6c2159e23e6",
   "metadata": {},
   "outputs": [],
   "source": [
    "dogum_yili = int(input(\"Doğum yılınızı giriniz: \"))\n",
    "guncel_yil = 2025\n",
    "\n",
    "yas = guncel_yil - dogum_yili\n",
    "\n",
    "if yas >= 0 and yas <= 12:\n",
    "    print(\"Çocuksunuz\")\n",
    "elif yas >= 13 and yas <= 17:\n",
    "    print(\"Ergensiniz\")\n",
    "else:\n",
    "    print(\"Yetişkinsiniz\")\n"
   ]
  }
 ],
 "metadata": {
  "kernelspec": {
   "display_name": "Python 3 (ipykernel)",
   "language": "python",
   "name": "python3"
  },
  "language_info": {
   "codemirror_mode": {
    "name": "ipython",
    "version": 3
   },
   "file_extension": ".py",
   "mimetype": "text/x-python",
   "name": "python",
   "nbconvert_exporter": "python",
   "pygments_lexer": "ipython3",
   "version": "3.13.5"
  }
 },
 "nbformat": 4,
 "nbformat_minor": 5
}
