{
 "cells": [
  {
   "cell_type": "code",
   "execution_count": 24,
   "id": "980c9bdf-c635-4168-b84c-0b86afdff9b2",
   "metadata": {
    "collapsed": true,
    "jupyter": {
     "outputs_hidden": true,
     "source_hidden": true
    }
   },
   "outputs": [
    {
     "name": "stdin",
     "output_type": "stream",
     "text": [
      "Bir sayı giriniz:  45\n"
     ]
    },
    {
     "name": "stdout",
     "output_type": "stream",
     "text": [
      "Sonuç: Pozitif Tek\n"
     ]
    }
   ],
   "source": [
    "def sayi_analizi():\n",
    "    \n",
    "    try:\n",
    "        sayi = int(input(\"Bir sayı giriniz: \"))\n",
    "        \n",
    "        # Pozitif/Negatif/Sıfır kontrolü\n",
    "        if sayi > 0:\n",
    "            pozitiflik = \"Pozitif\"\n",
    "        elif sayi < 0:\n",
    "            pozitiflik = \"Negatif\"\n",
    "        else:\n",
    "            pozitiflik = \"Sıfır\"\n",
    "        \n",
    "        # Tek/Çift kontrolü (sıfır için ayrı kontrol)\n",
    "        if sayi == 0:\n",
    "            teklik = \"\"\n",
    "        elif sayi % 2 == 0:\n",
    "            teklik = \" Çift\"\n",
    "        else:\n",
    "            teklik = \" Tek\"\n",
    "        \n",
    "        print(f\"Sonuç: {pozitiflik}{teklik}\")\n",
    "        \n",
    "    except ValueError:\n",
    "        print(\"Lütfen geçerli bir sayı giriniz!\")\n",
    "\n",
    "# Test\n",
    "sayi_analizi()"
   ]
  },
  {
   "cell_type": "code",
   "execution_count": 25,
   "id": "81f1673e-a7db-4957-b681-b7738d5f43dc",
   "metadata": {
    "collapsed": true,
    "jupyter": {
     "outputs_hidden": true,
     "source_hidden": true
    }
   },
   "outputs": [
    {
     "name": "stdin",
     "output_type": "stream",
     "text": [
      "Bir kelime giriniz:  Salam\n"
     ]
    },
    {
     "name": "stdout",
     "output_type": "stream",
     "text": [
      "Harf frekansları: {'s': 1, 'a': 2, 'l': 1, 'm': 1}\n"
     ]
    },
    {
     "data": {
      "text/plain": [
       "{'s': 1, 'a': 2, 'l': 1, 'm': 1}"
      ]
     },
     "execution_count": 25,
     "metadata": {},
     "output_type": "execute_result"
    }
   ],
   "source": [
    "def harf_frekansi():\n",
    "    \n",
    "    kelime = input(\"Bir kelime giriniz: \").lower()\n",
    "    frekans = {}\n",
    "    \n",
    "    for harf in kelime:\n",
    "        if harf.isalpha():  \n",
    "            if harf in frekans:\n",
    "                frekans[harf] += 1\n",
    "            else:\n",
    "                frekans[harf] = 1\n",
    "    \n",
    "    print(f\"Harf frekansları: {frekans}\")\n",
    "    return frekans\n",
    "\n",
    "# Test\n",
    "harf_frekansi()"
   ]
  },
  {
   "cell_type": "code",
   "execution_count": 26,
   "id": "c5797b29-95ff-42a1-a773-f44acc63edde",
   "metadata": {
    "collapsed": true,
    "jupyter": {
     "outputs_hidden": true,
     "source_hidden": true
    }
   },
   "outputs": [
    {
     "name": "stdin",
     "output_type": "stream",
     "text": [
      "Şifrenizi giriniz:  Sleami213\n"
     ]
    },
    {
     "name": "stdout",
     "output_type": "stream",
     "text": [
      "\n",
      "Şifre Analizi:\n",
      "Uzunluk (min 8): ✓\n",
      "Büyük harf: ✓\n",
      "Rakam: ✓\n",
      "🎉 Şifreniz güçlü!\n"
     ]
    }
   ],
   "source": [
    "def sifre_kontrol():\n",
    "    \n",
    "    sifre = input(\"Şifrenizi giriniz: \")\n",
    "    \n",
    "    uzunluk_ok = len(sifre) >= 8\n",
    "    buyuk_harf_var = any(c.isupper() for c in sifre)\n",
    "    rakam_var = any(c.isdigit() for c in sifre)\n",
    "    \n",
    "    print(f\"\\nŞifre Analizi:\")\n",
    "    print(f\"Uzunluk (min 8): {'✓' if uzunluk_ok else '✗'}\")\n",
    "    print(f\"Büyük harf: {'✓' if buyuk_harf_var else '✗'}\")\n",
    "    print(f\"Rakam: {'✓' if rakam_var else '✗'}\")\n",
    "    \n",
    "    if uzunluk_ok and buyuk_harf_var and rakam_var:\n",
    "        print(\"🎉 Şifreniz güçlü!\")\n",
    "    else:\n",
    "        print(\"❌ Şifreniz kriterleri karşılamıyor.\")\n",
    "        \n",
    "        if not uzunluk_ok:\n",
    "            print(\"- En az 8 karakter olmalı\")\n",
    "        if not buyuk_harf_var:\n",
    "            print(\"- En az 1 büyük harf içermeli\")\n",
    "        if not rakam_var:\n",
    "            print(\"- En az 1 rakam içermeli\")\n",
    "\n",
    "# Test\n",
    "sifre_kontrol()"
   ]
  },
  {
   "cell_type": "code",
   "execution_count": 27,
   "id": "183db8bd-f0f8-4e95-91d1-51cc579b83a3",
   "metadata": {
    "collapsed": true,
    "jupyter": {
     "outputs_hidden": true,
     "source_hidden": true
    }
   },
   "outputs": [
    {
     "name": "stdout",
     "output_type": "stream",
     "text": [
      "Liste: [12, 4, 9, 25, 30, 7, 18]\n",
      "Ortalama: 15.00\n",
      "Ortalamadan büyük sayılar: [25, 30, 18]\n"
     ]
    }
   ],
   "source": [
    "def liste_islemleri():\n",
    "    \n",
    "    sayilar = [12, 4, 9, 25, 30, 7, 18]\n",
    "    \n",
    "    ortalama = sum(sayilar) / len(sayilar)\n",
    "    print(f\"Liste: {sayilar}\")\n",
    "    print(f\"Ortalama: {ortalama:.2f}\")\n",
    "    \n",
    "    buyuk_sayilar = []\n",
    "    for sayi in sayilar:\n",
    "        if sayi > ortalama:\n",
    "            buyuk_sayilar.append(sayi)\n",
    "    \n",
    "    print(f\"Ortalamadan büyük sayılar: {buyuk_sayilar}\")\n",
    "\n",
    "# Test\n",
    "liste_islemleri()"
   ]
  },
  {
   "cell_type": "code",
   "execution_count": 28,
   "id": "736d8221-e9ef-439c-9cd6-96694e518069",
   "metadata": {
    "collapsed": true,
    "jupyter": {
     "outputs_hidden": true,
     "source_hidden": true
    }
   },
   "outputs": [
    {
     "name": "stdout",
     "output_type": "stream",
     "text": [
      "\n",
      "*\n",
      "**\n",
      "***\n",
      "****\n",
      "*****\n"
     ]
    }
   ],
   "source": [
    "def desen():\n",
    "    for x in range(6):\n",
    "        for y in range(x):\n",
    "            print(\"*\", end=\"\")\n",
    "        print()\n",
    "\n",
    "#Test\n",
    "desen()"
   ]
  },
  {
   "cell_type": "code",
   "execution_count": 29,
   "id": "39f1e156-bc11-4466-9d5f-37dfbd561473",
   "metadata": {
    "collapsed": true,
    "jupyter": {
     "outputs_hidden": true,
     "source_hidden": true
    }
   },
   "outputs": [
    {
     "name": "stdout",
     "output_type": "stream",
     "text": [
      "Sayılar giriniz (0 ile çıkış):\n"
     ]
    },
    {
     "name": "stdin",
     "output_type": "stream",
     "text": [
      "Sayı:  45\n",
      "Sayı:  23\n",
      "Sayı:  12\n",
      "Sayı:  0\n"
     ]
    },
    {
     "name": "stdout",
     "output_type": "stream",
     "text": [
      "\n",
      "Sonuçlar:\n",
      "Toplam: 80.0\n",
      "Ortalama: 26.67\n",
      "Girilen sayı adedi: 3\n"
     ]
    }
   ],
   "source": [
    "def sayi_toplama():    \n",
    "    toplam = 0\n",
    "    sayac = 0\n",
    "    \n",
    "    print(\"Sayılar giriniz (0 ile çıkış):\")\n",
    "    \n",
    "    while True:\n",
    "        try:\n",
    "            sayi = float(input(\"Sayı: \"))\n",
    "            \n",
    "            if sayi == 0:\n",
    "                break\n",
    "            \n",
    "            toplam += sayi\n",
    "            sayac += 1\n",
    "            \n",
    "        except ValueError:\n",
    "            print(\"Lütfen geçerli bir sayı giriniz!\")\n",
    "            continue\n",
    "    \n",
    "    if sayac > 0:\n",
    "        ortalama = toplam / sayac\n",
    "        print(f\"\\nSonuçlar:\")\n",
    "        print(f\"Toplam: {toplam}\")\n",
    "        print(f\"Ortalama: {ortalama:.2f}\")\n",
    "        print(f\"Girilen sayı adedi: {sayac}\")\n",
    "    else:\n",
    "        print(\"Hiç sayı girilmedi.\")\n",
    "\n",
    "# Test\n",
    "sayi_toplama()"
   ]
  },
  {
   "cell_type": "code",
   "execution_count": 30,
   "id": "ef8c9696-fcf6-4c70-8b66-45d7a99ad24d",
   "metadata": {
    "collapsed": true,
    "jupyter": {
     "outputs_hidden": true,
     "source_hidden": true
    }
   },
   "outputs": [
    {
     "name": "stdin",
     "output_type": "stream",
     "text": [
      "Bir kelime giriniz:  salas\n"
     ]
    },
    {
     "name": "stdout",
     "output_type": "stream",
     "text": [
      "'salas' bir palindromdur! ✓\n"
     ]
    }
   ],
   "source": [
    "def palindrom_kontrol():\n",
    "    \n",
    "    kelime = input(\"Bir kelime giriniz: \").lower().replace(\" \", \"\")\n",
    "    \n",
    "    ters_kelime = kelime[::-1]\n",
    "    \n",
    "    if kelime == ters_kelime:\n",
    "        print(f\"'{kelime}' bir palindromdur! ✓\")\n",
    "    else:\n",
    "        print(f\"'{kelime}' palindrom değildir. ✗\")\n",
    "        print(f\"Tersi: '{ters_kelime}'\")\n",
    "\n",
    "# Test\n",
    "palindrom_kontrol()"
   ]
  },
  {
   "cell_type": "code",
   "execution_count": 31,
   "id": "e367de27-d59d-4ee4-910f-1c2f1b7a864d",
   "metadata": {
    "collapsed": true,
    "jupyter": {
     "outputs_hidden": true,
     "source_hidden": true
    }
   },
   "outputs": [
    {
     "name": "stdout",
     "output_type": "stream",
     "text": [
      "1'den 100'e kadar hem 3'e hem 5'e bölünebilen sayılar:\n",
      "Sayılar: [15, 30, 45, 60, 75, 90]\n",
      "Bu sayıların kareleri: [225, 900, 2025, 3600, 5625, 8100]\n",
      "Toplam 6 sayı bulundu.\n"
     ]
    }
   ],
   "source": [
    "def bolunebilen_kareler():\n",
    "    \n",
    "    kareler = [sayi**2 for sayi in range(1, 101) if sayi % 3 == 0 and sayi % 5 == 0]\n",
    "    \n",
    "    print(\"1'den 100'e kadar hem 3'e hem 5'e bölünebilen sayılar:\")\n",
    "    bolunebilen_sayilar = [sayi for sayi in range(1, 101) if sayi % 15 == 0]\n",
    "    print(f\"Sayılar: {bolunebilen_sayilar}\")\n",
    "    \n",
    "    print(f\"Bu sayıların kareleri: {kareler}\")\n",
    "    print(f\"Toplam {len(kareler)} sayı bulundu.\")\n",
    "\n",
    "# Test\n",
    "bolunebilen_kareler()"
   ]
  },
  {
   "cell_type": "code",
   "execution_count": 34,
   "id": "1c391d52-6661-4a14-be63-0b9c8be5f8ef",
   "metadata": {
    "collapsed": true,
    "jupyter": {
     "outputs_hidden": true,
     "source_hidden": true
    }
   },
   "outputs": [
    {
     "name": "stdin",
     "output_type": "stream",
     "text": [
      "Bir cümle giriniz:  nemo\n"
     ]
    },
    {
     "name": "stdout",
     "output_type": "stream",
     "text": [
      "Orijinal: nemo\n",
      "Yeni: Nemo\n"
     ]
    }
   ],
   "source": [
    "def kelime_basliklari():\n",
    "    \n",
    "    cumle = input(\"Bir cümle giriniz: \")\n",
    "    \n",
    "    kelimeler = cumle.split()\n",
    "    buyuk_kelimeler = [kelime.capitalize() for kelime in kelimeler]\n",
    "    yeni_cumle = \" \".join(buyuk_kelimeler)\n",
    "    \n",
    "    print(f\"Orijinal: {cumle}\")\n",
    "    print(f\"Yeni: {yeni_cumle}\")\n",
    "\n",
    "# Test\n",
    "kelime_basliklari()"
   ]
  },
  {
   "cell_type": "code",
   "execution_count": 35,
   "id": "9db21af9-0970-47ab-ad56-b1f7902f75b1",
   "metadata": {
    "collapsed": true,
    "jupyter": {
     "outputs_hidden": true,
     "source_hidden": true
    }
   },
   "outputs": [
    {
     "name": "stdout",
     "output_type": "stream",
     "text": [
      "=== FİLM YORUMU ANALİZ PROGRAMI ===\n",
      "\n",
      "Film yorumlarını giriniz (boş satır ile bitirin):\n"
     ]
    },
    {
     "name": "stdin",
     "output_type": "stream",
     "text": [
      "Yorum 1:  iyi\n",
      "Yorum 2:  köyü\n",
      "Yorum 3:  kötü\n",
      "Yorum 4:  çirkin\n",
      "Yorum 5:  \n"
     ]
    },
    {
     "name": "stdout",
     "output_type": "stream",
     "text": [
      "\n",
      "==================================================\n",
      "ANALIZ SONUÇLARI\n",
      "==================================================\n",
      "📊 Toplam yorum sayısı: 4\n",
      "👍 'iyi' geçen yorum sayısı: 1\n",
      "📏 En uzun yorum (6 karakter): çirkin\n",
      "📏 En kısa yorum (3 karakter): iyi\n",
      "📊 Ortalama uzunluk: 4.2 karakter\n",
      "\n",
      "============================================================\n"
     ]
    }
   ],
   "source": [
    "def film_yorumu_analizi():\n",
    "    print(\"=== FİLM YORUMU ANALİZ PROGRAMI ===\\n\")\n",
    "    \n",
    "    yorumlar = []\n",
    "    \n",
    "    print(\"Film yorumlarını giriniz (boş satır ile bitirin):\")\n",
    "    while True:\n",
    "        yorum = input(f\"Yorum {len(yorumlar) + 1}: \")\n",
    "        if yorum.strip() == \"\":\n",
    "            break\n",
    "        yorumlar.append(yorum.strip())\n",
    "    \n",
    "    if not yorumlar:\n",
    "        print(\"Hiç yorum girilmedi!\")\n",
    "        return\n",
    "    \n",
    "    # Analizler\n",
    "    print(\"\\n\" + \"=\"*50)\n",
    "    print(\"ANALIZ SONUÇLARI\")\n",
    "    print(\"=\"*50)\n",
    "    \n",
    "    # 1. Toplam yorum sayısı\n",
    "    print(f\"📊 Toplam yorum sayısı: {len(yorumlar)}\")\n",
    "    \n",
    "    # 2. \"iyi\" kelimesi geçen yorumları say\n",
    "    iyi_sayisi = sum(1 for yorum in yorumlar if \"iyi\" in yorum.lower())\n",
    "    print(f\"👍 'iyi' geçen yorum sayısı: {iyi_sayisi}\")\n",
    "    \n",
    "    # 3. Yorum uzunlukları\n",
    "    uzunluklar = [len(yorum) for yorum in yorumlar]\n",
    "    \n",
    "    # 4. En uzun ve en kısa yorumu bul\n",
    "    en_uzun_index = uzunluklar.index(max(uzunluklar))\n",
    "    en_kisa_index = uzunluklar.index(min(uzunluklar))\n",
    "    \n",
    "    print(f\"📏 En uzun yorum ({len(yorumlar[en_uzun_index])} karakter): {yorumlar[en_uzun_index]}\")\n",
    "    print(f\"📏 En kısa yorum ({len(yorumlar[en_kisa_index])} karakter): {yorumlar[en_kisa_index]}\")\n",
    "    \n",
    "    # 5. Ortalama uzunluk\n",
    "    ortalama_uzunluk = sum(uzunluklar) / len(uzunluklar)\n",
    "    print(f\"📊 Ortalama uzunluk: {ortalama_uzunluk:.1f} karakter\")\n",
    "    \n",
    "film_yorumu_analizi()\n",
    "\n",
    "print(\"\\n\" + \"=\"*60)"
   ]
  },
  {
   "cell_type": "code",
   "execution_count": null,
   "id": "93baee7d-b7d6-46c5-b621-29e0997c0ff8",
   "metadata": {},
   "outputs": [],
   "source": []
  }
 ],
 "metadata": {
  "kernelspec": {
   "display_name": "Python 3 (ipykernel)",
   "language": "python",
   "name": "python3"
  },
  "language_info": {
   "codemirror_mode": {
    "name": "ipython",
    "version": 3
   },
   "file_extension": ".py",
   "mimetype": "text/x-python",
   "name": "python",
   "nbconvert_exporter": "python",
   "pygments_lexer": "ipython3",
   "version": "3.13.5"
  }
 },
 "nbformat": 4,
 "nbformat_minor": 5
}
